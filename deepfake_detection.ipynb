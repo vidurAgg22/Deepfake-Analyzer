from google.colab import drive
drive.mount('/content/drive')
import os
import numpy as np
from PIL import Image
from sklearn.neighbors import KNeighborsClassifier
from sklearn.metrics import accuracy_score
from joblib import dump

IMAGE_SIZE = (128, 128)

def preprocess_image(image_path, target_size):
    img = Image.open(image_path)
    img = img.resize(target_size)
    img = np.array(img) / 255.0
    return img.flatten()

dataset_directory = '/content/drive/MyDrive/Dataset1/'
X_train = []
y_train = []
X_test = []
y_test = []

for class_name in ['Real', 'Fake']:
    train_class_directory = os.path.join(dataset_directory, 'Train', class_name)
    for image_file in os.listdir(train_class_directory):
        image_path = os.path.join(train_class_directory, image_file)
        image_features = preprocess_image(image_path, IMAGE_SIZE)
        X_train.append(image_features)
        y_train.append(1 if class_name == 'Fake' else 0)

for class_name in ['Real', 'Fake']:
    test_class_directory = os.path.join(dataset_directory, 'Test', class_name)
    for image_file in os.listdir(test_class_directory):
        image_path = os.path.join(test_class_directory, image_file)
        image_features = preprocess_image(image_path, IMAGE_SIZE)
        X_test.append(image_features)
        y_test.append(1 if class_name == 'Fake' else 0)

X_train = np.array(X_train)
y_train = np.array(y_train)
X_test = np.array(X_test)
y_test = np.array(y_test)

knn = KNeighborsClassifier(n_neighbors=5)
knn.fit(X_train, y_train)
y_pred = knn.predict(X_test)
accuracy = accuracy_score(y_test, y_pred)
print("Accuracy:", accuracy)

model_save_path = '/content/drive/MyDrive/imagemodel.joblib'
dump(knn, model_save_path)

import numpy as np
from PIL import Image
from sklearn.neighbors import KNeighborsClassifier
from joblib import load
from google.colab import files

IMAGE_SIZE = (128, 128)

def preprocess_image(image, target_size):
    img = Image.open(image)
    img = img.resize(target_size)
    img = np.array(img) / 255.0
    return img.flatten()

model_path = '/content/drive/MyDrive/imagemodel.joblib'
knn = load(model_path)

while True:
    uploaded = files.upload()
    image_path = list(uploaded.keys())[0]
    preprocessed_image = preprocess_image(image_path, IMAGE_SIZE)
    prediction = knn.predict([preprocessed_image])
    if prediction[0] == 1:
        print("The image is classified as FAKE.")
    else:
        print("The image is classified as REAL.")
    choice = input("Do you want to upload and classify another image? (yes/no): ")
    if choice.lower() != 'yes':
        break
